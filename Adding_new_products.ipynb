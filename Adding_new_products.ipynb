{
  "nbformat": 4,
  "nbformat_minor": 0,
  "metadata": {
    "colab": {
      "name": "Adding new products.ipynb",
      "provenance": []
    },
    "kernelspec": {
      "name": "python3",
      "display_name": "Python 3"
    },
    "language_info": {
      "name": "python"
    }
  },
  "cells": [
    {
      "cell_type": "code",
      "metadata": {
        "id": "-TKmnuqn5UTP"
      },
      "source": [
        "import json\n",
        "fd = open (\"record.json\",'r')\n",
        "r=fd.read()\n",
        "fd.close()\n",
        "\n",
        "record = json.loads(r)"
      ],
      "execution_count": 1,
      "outputs": []
    },
    {
      "cell_type": "code",
      "metadata": {
        "colab": {
          "base_uri": "https://localhost:8080/"
        },
        "id": "7r5tE4bddH0-",
        "outputId": "affd3115-ce77-4c11-8e02-8482d31b689f"
      },
      "source": [
        "print(\"Adding new items into inventory\")\n",
        "print(\"----------------------------------------\")\n",
        "prod_id = input(\"Enter product id: \")\n",
        "name = input(\"Enter name: \")\n",
        "price= int(input(\"Enter price: \"))\n",
        "quantity = int(input(\"Enter quantity: \"))\n",
        "\n",
        "record[prod_id] = {'name' : name, 'price': price, 'quantity': quantity}\n",
        "\n",
        "js= json.dumps(record)\n",
        "\n",
        "fd = open(\"record.json\", 'w')\n",
        "fd.write(js)\n",
        "fd.close()\n",
        "print('Done!!!')"
      ],
      "execution_count": 2,
      "outputs": [
        {
          "output_type": "stream",
          "name": "stdout",
          "text": [
            "Adding new items into inventory\n",
            "----------------------------------------\n",
            "Enter product id: 1050\n",
            "Enter name: cake\n",
            "Enter price: 11\n",
            "Enter quantity: 10\n",
            "Done!!!\n"
          ]
        }
      ]
    },
    {
      "cell_type": "code",
      "metadata": {
        "id": "S_dTfHCCewMK"
      },
      "source": [
        "del record['1002']"
      ],
      "execution_count": 5,
      "outputs": []
    }
  ]
}