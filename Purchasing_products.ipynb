{
  "nbformat": 4,
  "nbformat_minor": 0,
  "metadata": {
    "colab": {
      "name": "Purchasing_products.ipynb",
      "provenance": []
    },
    "kernelspec": {
      "name": "python3",
      "display_name": "Python 3"
    },
    "language_info": {
      "name": "python"
    }
  },
  "cells": [
    {
      "cell_type": "code",
      "metadata": {
        "id": "sAhEdj22jCcL"
      },
      "source": [
        "import json"
      ],
      "execution_count": 6,
      "outputs": []
    },
    {
      "cell_type": "code",
      "metadata": {
        "colab": {
          "base_uri": "https://localhost:8080/"
        },
        "id": "Jgrjrnmxlfxk",
        "outputId": "5b394d0c-5250-4dc2-b96f-28858c92d4ce"
      },
      "source": [
        "fd = open('record.json','r')\n",
        "jdata = fd.read()\n",
        "record = json.loads(jdata)\n",
        "fd.close()\n",
        "\n",
        "f = open('sales.json','r')\n",
        "sale = f.read()\n",
        "sales = json.loads(sale)\n",
        "f.close()\n",
        "\n",
        "print('Done!!!')"
      ],
      "execution_count": 7,
      "outputs": [
        {
          "output_type": "stream",
          "name": "stdout",
          "text": [
            "Done!!!\n"
          ]
        }
      ]
    },
    {
      "cell_type": "code",
      "metadata": {
        "colab": {
          "base_uri": "https://localhost:8080/"
        },
        "id": "Rbcgg80zmTjr",
        "outputId": "0865bd3c-69b3-4794-db38-ee9af03e8b07"
      },
      "source": [
        "print(\" !-!-! Purchasing Product !-!-! \")\n",
        "print(\"----------------------------------------------------\")\n",
        "\n",
        "user_prod = str(input(\"Enter the product_id: \"))\n",
        "user_quant = int(input(\"Enter the quantity: \"))\n",
        "\n",
        "print(\"Product: \", record[user_prod]['name'])\n",
        "print(\"Price: \", record[user_prod]['price'])\n",
        "print(\"Billing Amount: \", record[user_prod]['price']* user_quant)\n",
        "\n",
        "record[user_prod]['quantity'] = record[user_prod]['quantity'] - user_quant\n",
        "sales[user_prod] = {\"name\": record[user_prod]['name'],\"price\": record[user_prod]['price'], 'quantity': user_quant}\n",
        "\n",
        "print(\"---------------------------------------------------\")"
      ],
      "execution_count": 8,
      "outputs": [
        {
          "output_type": "stream",
          "name": "stdout",
          "text": [
            " !-!-! Purchasing Product !-!-! \n",
            "----------------------------------------------------\n",
            "Enter the product_id: 1005\n",
            "Enter the quantity: 4\n",
            "Product:  Ponds Beauty Cream \n",
            "Price:  50\n",
            "Billing Amount:  200\n",
            "---------------------------------------------------\n"
          ]
        }
      ]
    },
    {
      "cell_type": "code",
      "metadata": {
        "colab": {
          "base_uri": "https://localhost:8080/"
        },
        "id": "815FP4UhoMBx",
        "outputId": "680c1393-6368-44e0-e3a0-3bf7f789ac0c"
      },
      "source": [
        "sales"
      ],
      "execution_count": 9,
      "outputs": [
        {
          "output_type": "execute_result",
          "data": {
            "text/plain": [
              "{'1001': {'name': 'Lakme Lip Blam', 'price': 150, 'quantity': 2},\n",
              " '1005': {'name': 'Ponds Beauty Cream ', 'price': 50, 'quantity': 4}}"
            ]
          },
          "metadata": {},
          "execution_count": 9
        }
      ]
    },
    {
      "cell_type": "code",
      "metadata": {
        "id": "KB-b8cK9oVQx"
      },
      "source": [
        "jdata = json.dumps(record)\n",
        "fd = open(\"record.json\",'w')\n",
        "fd.write(jdata)\n",
        "fd.close()\n",
        "\n",
        "jdata = json.dumps(sales)\n",
        "fd = open(\"sales.json\",'w')\n",
        "fd.write(jdata)\n",
        "fd.close()"
      ],
      "execution_count": null,
      "outputs": []
    },
    {
      "cell_type": "code",
      "metadata": {
        "id": "qYCmJiaYo0Cq"
      },
      "source": [
        "sales[user_prod] = {\"name\": record[user_prod]['name'], \"price\":record[user_prod]['price'], \"quantity\": user_quant}\n"
      ],
      "execution_count": null,
      "outputs": []
    }
  ]
}